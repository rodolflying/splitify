{
 "cells": [
  {
   "cell_type": "code",
   "execution_count": 28,
   "metadata": {},
   "outputs": [
    {
     "name": "stdout",
     "output_type": "stream",
     "text": [
      "FFmpeg is not installed.\n",
      "Downloading FFmpeg from https://www.gyan.dev/ffmpeg/builds/ffmpeg-release-full.7z...\n",
      "Extracting FFmpeg...\n",
      "Adding FFmpeg to PATH...\n"
     ]
    },
    {
     "ename": "FileNotFoundError",
     "evalue": "[WinError 2] El sistema no puede encontrar el archivo especificado",
     "output_type": "error",
     "traceback": [
      "\u001b[1;31m---------------------------------------------------------------------------\u001b[0m",
      "\u001b[1;31mFileNotFoundError\u001b[0m                         Traceback (most recent call last)",
      "Cell \u001b[1;32mIn[28], line 25\u001b[0m\n\u001b[0;32m     24\u001b[0m \u001b[39mtry\u001b[39;00m:\n\u001b[1;32m---> 25\u001b[0m     subprocess\u001b[39m.\u001b[39;49mrun([\u001b[39m\"\u001b[39;49m\u001b[39mffmpeg\u001b[39;49m\u001b[39m\"\u001b[39;49m, \u001b[39m\"\u001b[39;49m\u001b[39m-version\u001b[39;49m\u001b[39m\"\u001b[39;49m], stdout\u001b[39m=\u001b[39;49msubprocess\u001b[39m.\u001b[39;49mDEVNULL, stderr\u001b[39m=\u001b[39;49msubprocess\u001b[39m.\u001b[39;49mDEVNULL)\n\u001b[0;32m     26\u001b[0m     \u001b[39mprint\u001b[39m(\u001b[39m\"\u001b[39m\u001b[39mFFmpeg is already installed.\u001b[39m\u001b[39m\"\u001b[39m)\n",
      "File \u001b[1;32mc:\\Users\\usuario\\AppData\\Local\\Programs\\Python\\Python310\\lib\\subprocess.py:501\u001b[0m, in \u001b[0;36mrun\u001b[1;34m(input, capture_output, timeout, check, *popenargs, **kwargs)\u001b[0m\n\u001b[0;32m    499\u001b[0m     kwargs[\u001b[39m'\u001b[39m\u001b[39mstderr\u001b[39m\u001b[39m'\u001b[39m] \u001b[39m=\u001b[39m PIPE\n\u001b[1;32m--> 501\u001b[0m \u001b[39mwith\u001b[39;00m Popen(\u001b[39m*\u001b[39mpopenargs, \u001b[39m*\u001b[39m\u001b[39m*\u001b[39mkwargs) \u001b[39mas\u001b[39;00m process:\n\u001b[0;32m    502\u001b[0m     \u001b[39mtry\u001b[39;00m:\n",
      "File \u001b[1;32mc:\\Users\\usuario\\AppData\\Local\\Programs\\Python\\Python310\\lib\\subprocess.py:966\u001b[0m, in \u001b[0;36mPopen.__init__\u001b[1;34m(self, args, bufsize, executable, stdin, stdout, stderr, preexec_fn, close_fds, shell, cwd, env, universal_newlines, startupinfo, creationflags, restore_signals, start_new_session, pass_fds, user, group, extra_groups, encoding, errors, text, umask, pipesize)\u001b[0m\n\u001b[0;32m    963\u001b[0m             \u001b[39mself\u001b[39m\u001b[39m.\u001b[39mstderr \u001b[39m=\u001b[39m io\u001b[39m.\u001b[39mTextIOWrapper(\u001b[39mself\u001b[39m\u001b[39m.\u001b[39mstderr,\n\u001b[0;32m    964\u001b[0m                     encoding\u001b[39m=\u001b[39mencoding, errors\u001b[39m=\u001b[39merrors)\n\u001b[1;32m--> 966\u001b[0m     \u001b[39mself\u001b[39;49m\u001b[39m.\u001b[39;49m_execute_child(args, executable, preexec_fn, close_fds,\n\u001b[0;32m    967\u001b[0m                         pass_fds, cwd, env,\n\u001b[0;32m    968\u001b[0m                         startupinfo, creationflags, shell,\n\u001b[0;32m    969\u001b[0m                         p2cread, p2cwrite,\n\u001b[0;32m    970\u001b[0m                         c2pread, c2pwrite,\n\u001b[0;32m    971\u001b[0m                         errread, errwrite,\n\u001b[0;32m    972\u001b[0m                         restore_signals,\n\u001b[0;32m    973\u001b[0m                         gid, gids, uid, umask,\n\u001b[0;32m    974\u001b[0m                         start_new_session)\n\u001b[0;32m    975\u001b[0m \u001b[39mexcept\u001b[39;00m:\n\u001b[0;32m    976\u001b[0m     \u001b[39m# Cleanup if the child failed starting.\u001b[39;00m\n",
      "File \u001b[1;32mc:\\Users\\usuario\\AppData\\Local\\Programs\\Python\\Python310\\lib\\subprocess.py:1435\u001b[0m, in \u001b[0;36mPopen._execute_child\u001b[1;34m(self, args, executable, preexec_fn, close_fds, pass_fds, cwd, env, startupinfo, creationflags, shell, p2cread, p2cwrite, c2pread, c2pwrite, errread, errwrite, unused_restore_signals, unused_gid, unused_gids, unused_uid, unused_umask, unused_start_new_session)\u001b[0m\n\u001b[0;32m   1434\u001b[0m \u001b[39mtry\u001b[39;00m:\n\u001b[1;32m-> 1435\u001b[0m     hp, ht, pid, tid \u001b[39m=\u001b[39m _winapi\u001b[39m.\u001b[39;49mCreateProcess(executable, args,\n\u001b[0;32m   1436\u001b[0m                              \u001b[39m# no special security\u001b[39;49;00m\n\u001b[0;32m   1437\u001b[0m                              \u001b[39mNone\u001b[39;49;00m, \u001b[39mNone\u001b[39;49;00m,\n\u001b[0;32m   1438\u001b[0m                              \u001b[39mint\u001b[39;49m(\u001b[39mnot\u001b[39;49;00m close_fds),\n\u001b[0;32m   1439\u001b[0m                              creationflags,\n\u001b[0;32m   1440\u001b[0m                              env,\n\u001b[0;32m   1441\u001b[0m                              cwd,\n\u001b[0;32m   1442\u001b[0m                              startupinfo)\n\u001b[0;32m   1443\u001b[0m \u001b[39mfinally\u001b[39;00m:\n\u001b[0;32m   1444\u001b[0m     \u001b[39m# Child is launched. Close the parent's copy of those pipe\u001b[39;00m\n\u001b[0;32m   1445\u001b[0m     \u001b[39m# handles that only the child should have open.  You need\u001b[39;00m\n\u001b[1;32m   (...)\u001b[0m\n\u001b[0;32m   1448\u001b[0m     \u001b[39m# pipe will not close when the child process exits and the\u001b[39;00m\n\u001b[0;32m   1449\u001b[0m     \u001b[39m# ReadFile will hang.\u001b[39;00m\n",
      "\u001b[1;31mFileNotFoundError\u001b[0m: [WinError 2] El sistema no puede encontrar el archivo especificado",
      "\nDuring handling of the above exception, another exception occurred:\n",
      "\u001b[1;31mFileNotFoundError\u001b[0m                         Traceback (most recent call last)",
      "Cell \u001b[1;32mIn[28], line 45\u001b[0m\n\u001b[0;32m     42\u001b[0m os\u001b[39m.\u001b[39menviron[\u001b[39m\"\u001b[39m\u001b[39mPATH\u001b[39m\u001b[39m\"\u001b[39m] \u001b[39m+\u001b[39m\u001b[39m=\u001b[39m os\u001b[39m.\u001b[39mpathsep \u001b[39m+\u001b[39m os\u001b[39m.\u001b[39mpath\u001b[39m.\u001b[39mabspath(\u001b[39m\"\u001b[39m\u001b[39m./ffmpeg/bin\u001b[39m\u001b[39m\"\u001b[39m)\n\u001b[0;32m     44\u001b[0m \u001b[39m# confirm FFmpeg is installed\u001b[39;00m\n\u001b[1;32m---> 45\u001b[0m subprocess\u001b[39m.\u001b[39;49mrun([\u001b[39m\"\u001b[39;49m\u001b[39mffmpeg\u001b[39;49m\u001b[39m\"\u001b[39;49m, \u001b[39m\"\u001b[39;49m\u001b[39m-version\u001b[39;49m\u001b[39m\"\u001b[39;49m], stdout\u001b[39m=\u001b[39;49msubprocess\u001b[39m.\u001b[39;49mDEVNULL, stderr\u001b[39m=\u001b[39;49msubprocess\u001b[39m.\u001b[39;49mDEVNULL)\n\u001b[0;32m     46\u001b[0m \u001b[39mprint\u001b[39m(\u001b[39m\"\u001b[39m\u001b[39mFFmpeg has been installed.\u001b[39m\u001b[39m\"\u001b[39m)\n",
      "File \u001b[1;32mc:\\Users\\usuario\\AppData\\Local\\Programs\\Python\\Python310\\lib\\subprocess.py:501\u001b[0m, in \u001b[0;36mrun\u001b[1;34m(input, capture_output, timeout, check, *popenargs, **kwargs)\u001b[0m\n\u001b[0;32m    498\u001b[0m     kwargs[\u001b[39m'\u001b[39m\u001b[39mstdout\u001b[39m\u001b[39m'\u001b[39m] \u001b[39m=\u001b[39m PIPE\n\u001b[0;32m    499\u001b[0m     kwargs[\u001b[39m'\u001b[39m\u001b[39mstderr\u001b[39m\u001b[39m'\u001b[39m] \u001b[39m=\u001b[39m PIPE\n\u001b[1;32m--> 501\u001b[0m \u001b[39mwith\u001b[39;00m Popen(\u001b[39m*\u001b[39mpopenargs, \u001b[39m*\u001b[39m\u001b[39m*\u001b[39mkwargs) \u001b[39mas\u001b[39;00m process:\n\u001b[0;32m    502\u001b[0m     \u001b[39mtry\u001b[39;00m:\n\u001b[0;32m    503\u001b[0m         stdout, stderr \u001b[39m=\u001b[39m process\u001b[39m.\u001b[39mcommunicate(\u001b[39minput\u001b[39m, timeout\u001b[39m=\u001b[39mtimeout)\n",
      "File \u001b[1;32mc:\\Users\\usuario\\AppData\\Local\\Programs\\Python\\Python310\\lib\\subprocess.py:966\u001b[0m, in \u001b[0;36mPopen.__init__\u001b[1;34m(self, args, bufsize, executable, stdin, stdout, stderr, preexec_fn, close_fds, shell, cwd, env, universal_newlines, startupinfo, creationflags, restore_signals, start_new_session, pass_fds, user, group, extra_groups, encoding, errors, text, umask, pipesize)\u001b[0m\n\u001b[0;32m    962\u001b[0m         \u001b[39mif\u001b[39;00m \u001b[39mself\u001b[39m\u001b[39m.\u001b[39mtext_mode:\n\u001b[0;32m    963\u001b[0m             \u001b[39mself\u001b[39m\u001b[39m.\u001b[39mstderr \u001b[39m=\u001b[39m io\u001b[39m.\u001b[39mTextIOWrapper(\u001b[39mself\u001b[39m\u001b[39m.\u001b[39mstderr,\n\u001b[0;32m    964\u001b[0m                     encoding\u001b[39m=\u001b[39mencoding, errors\u001b[39m=\u001b[39merrors)\n\u001b[1;32m--> 966\u001b[0m     \u001b[39mself\u001b[39;49m\u001b[39m.\u001b[39;49m_execute_child(args, executable, preexec_fn, close_fds,\n\u001b[0;32m    967\u001b[0m                         pass_fds, cwd, env,\n\u001b[0;32m    968\u001b[0m                         startupinfo, creationflags, shell,\n\u001b[0;32m    969\u001b[0m                         p2cread, p2cwrite,\n\u001b[0;32m    970\u001b[0m                         c2pread, c2pwrite,\n\u001b[0;32m    971\u001b[0m                         errread, errwrite,\n\u001b[0;32m    972\u001b[0m                         restore_signals,\n\u001b[0;32m    973\u001b[0m                         gid, gids, uid, umask,\n\u001b[0;32m    974\u001b[0m                         start_new_session)\n\u001b[0;32m    975\u001b[0m \u001b[39mexcept\u001b[39;00m:\n\u001b[0;32m    976\u001b[0m     \u001b[39m# Cleanup if the child failed starting.\u001b[39;00m\n\u001b[0;32m    977\u001b[0m     \u001b[39mfor\u001b[39;00m f \u001b[39min\u001b[39;00m \u001b[39mfilter\u001b[39m(\u001b[39mNone\u001b[39;00m, (\u001b[39mself\u001b[39m\u001b[39m.\u001b[39mstdin, \u001b[39mself\u001b[39m\u001b[39m.\u001b[39mstdout, \u001b[39mself\u001b[39m\u001b[39m.\u001b[39mstderr)):\n",
      "File \u001b[1;32mc:\\Users\\usuario\\AppData\\Local\\Programs\\Python\\Python310\\lib\\subprocess.py:1435\u001b[0m, in \u001b[0;36mPopen._execute_child\u001b[1;34m(self, args, executable, preexec_fn, close_fds, pass_fds, cwd, env, startupinfo, creationflags, shell, p2cread, p2cwrite, c2pread, c2pwrite, errread, errwrite, unused_restore_signals, unused_gid, unused_gids, unused_uid, unused_umask, unused_start_new_session)\u001b[0m\n\u001b[0;32m   1433\u001b[0m \u001b[39m# Start the process\u001b[39;00m\n\u001b[0;32m   1434\u001b[0m \u001b[39mtry\u001b[39;00m:\n\u001b[1;32m-> 1435\u001b[0m     hp, ht, pid, tid \u001b[39m=\u001b[39m _winapi\u001b[39m.\u001b[39;49mCreateProcess(executable, args,\n\u001b[0;32m   1436\u001b[0m                              \u001b[39m# no special security\u001b[39;49;00m\n\u001b[0;32m   1437\u001b[0m                              \u001b[39mNone\u001b[39;49;00m, \u001b[39mNone\u001b[39;49;00m,\n\u001b[0;32m   1438\u001b[0m                              \u001b[39mint\u001b[39;49m(\u001b[39mnot\u001b[39;49;00m close_fds),\n\u001b[0;32m   1439\u001b[0m                              creationflags,\n\u001b[0;32m   1440\u001b[0m                              env,\n\u001b[0;32m   1441\u001b[0m                              cwd,\n\u001b[0;32m   1442\u001b[0m                              startupinfo)\n\u001b[0;32m   1443\u001b[0m \u001b[39mfinally\u001b[39;00m:\n\u001b[0;32m   1444\u001b[0m     \u001b[39m# Child is launched. Close the parent's copy of those pipe\u001b[39;00m\n\u001b[0;32m   1445\u001b[0m     \u001b[39m# handles that only the child should have open.  You need\u001b[39;00m\n\u001b[1;32m   (...)\u001b[0m\n\u001b[0;32m   1448\u001b[0m     \u001b[39m# pipe will not close when the child process exits and the\u001b[39;00m\n\u001b[0;32m   1449\u001b[0m     \u001b[39m# ReadFile will hang.\u001b[39;00m\n\u001b[0;32m   1450\u001b[0m     \u001b[39mself\u001b[39m\u001b[39m.\u001b[39m_close_pipe_fds(p2cread, p2cwrite,\n\u001b[0;32m   1451\u001b[0m                          c2pread, c2pwrite,\n\u001b[0;32m   1452\u001b[0m                          errread, errwrite)\n",
      "\u001b[1;31mFileNotFoundError\u001b[0m: [WinError 2] El sistema no puede encontrar el archivo especificado"
     ]
    }
   ],
   "source": [
    "# # 1) to install it \n",
    "# python -m pip install -U demucs\n",
    "# Terminal Commands\n",
    "# demucs PATH_TO_AUDIO_FILE_1 [PATH_TO_AUDIO_FILE_2 ...]   # for Demucs\n",
    "# # If you used `pip install --user` you might need to replace demucs with python3 -m demucs\n",
    "# python3 -m demucs --mp3 --mp3-bitrate BITRATE PATH_TO_AUDIO_FILE_1  # output files saved as MP3\n",
    "# # If your filename contain spaces don't forget to quote it !!!\n",
    "# demucs \"my music/my favorite track.mp3\"\n",
    "# # You can select different models with `-n` mdx_q is the quantized model, smaller but maybe a bit less accurate.\n",
    "# demucs -n mdx_q myfile.mp3\n",
    "# # If you only want to separate vocals out of an audio, use `--two-stems=vocal` (You can also set to drums or bass)\n",
    "# demucs --two-stems=vocals myfile.mp3\n",
    "\n",
    "import os\n",
    "import subprocess\n",
    "import requests\n",
    "import zipfile\n",
    "\n",
    "# set the FFmpeg download URL and file name\n",
    "ffmpeg_url = \"https://www.gyan.dev/ffmpeg/builds/ffmpeg-release-full.7z\"\n",
    "ffmpeg_file = \"ffmpeg.7z\"\n",
    "\n",
    "# check if FFmpeg is installed\n",
    "try:\n",
    "    subprocess.run([\"ffmpeg\", \"-version\"], stdout=subprocess.DEVNULL, stderr=subprocess.DEVNULL)\n",
    "    print(\"FFmpeg is already installed.\")\n",
    "except FileNotFoundError:\n",
    "    print(\"FFmpeg is not installed.\")\n",
    "\n",
    "    # download FFmpeg\n",
    "    print(f\"Downloading FFmpeg from {ffmpeg_url}...\")\n",
    "    response = requests.get(ffmpeg_url)\n",
    "    with open(ffmpeg_file, \"wb\") as f:\n",
    "        f.write(response.content)\n",
    "\n",
    "    # extract FFmpeg\n",
    "    print(\"Extracting FFmpeg...\")\n",
    "    os.system(f\"7z x {ffmpeg_file} -y -o.\\\\ffmpeg\")\n",
    "\n",
    "    # add FFmpeg to PATH\n",
    "    print(\"Adding FFmpeg to PATH...\")\n",
    "    os.environ[\"PATH\"] += os.pathsep + os.path.abspath(\"./ffmpeg/bin\")\n",
    "\n",
    "    # confirm FFmpeg is installed\n",
    "    subprocess.run([\"ffmpeg\"], stdout=subprocess.DEVNULL, stderr=subprocess.DEVNULL)\n",
    "    print(\"FFmpeg has been installed.\")\n"
   ]
  },
  {
   "cell_type": "code",
   "execution_count": 31,
   "metadata": {},
   "outputs": [
    {
     "name": "stdout",
     "output_type": "stream",
     "text": [
      "FFmpeg is not installed.\n",
      "7zip is not installed.\n",
      "Downloading 7zip...\n",
      "Installing 7zip...\n",
      "7zip has been installed.\n",
      "Downloading FFmpeg...\n",
      "Extracting FFmpeg...\n",
      "FFmpeg has been installed.\n"
     ]
    }
   ],
   "source": [
    "import os\n",
    "import subprocess\n",
    "\n",
    "# check if FFmpeg is installed\n",
    "try:\n",
    "    subprocess.run([\"ffmpeg\", \"-version\"], stdout=subprocess.DEVNULL, stderr=subprocess.DEVNULL)\n",
    "    print(\"FFmpeg is already installed.\")\n",
    "except FileNotFoundError:\n",
    "    print(\"FFmpeg is not installed.\")\n",
    "\n",
    "    # check if 7zip is installed\n",
    "    try:\n",
    "        subprocess.run([\"7z\"], stdout=subprocess.DEVNULL, stderr=subprocess.DEVNULL)\n",
    "        print(\"7zip is already installed.\")\n",
    "    except FileNotFoundError:\n",
    "        print(\"7zip is not installed.\")\n",
    "\n",
    "        # download and install 7zip\n",
    "        print(\"Downloading 7zip...\")\n",
    "        response = requests.get(\"https://www.7-zip.org/a/7z2102-x64.exe\")\n",
    "        with open(\"7zip.exe\", \"wb\") as f:\n",
    "            f.write(response.content)\n",
    "        print(\"Installing 7zip...\")\n",
    "        os.system(\"7zip.exe /S\")\n",
    "\n",
    "        # add 7zip to PATH\n",
    "        os.environ[\"PATH\"] += os.pathsep + os.path.abspath(\"./Program Files/7-Zip\")\n",
    "\n",
    "        print(\"7zip has been installed.\")\n",
    "\n",
    "    # download and extract FFmpeg\n",
    "    print(\"Downloading FFmpeg...\")\n",
    "    response = requests.get(\"https://www.gyan.dev/ffmpeg/builds/ffmpeg-release-full.7z\")\n",
    "    with open(\"ffmpeg.7z\", \"wb\") as f:\n",
    "        f.write(response.content)\n",
    "    print(\"Extracting FFmpeg...\")\n",
    "    os.system(\"7z x ffmpeg.7z -y -o./ffmpeg\")\n",
    "\n",
    "    # add FFmpeg to PATH\n",
    "    os.environ[\"PATH\"] += os.pathsep + os.path.abspath(\"./ffmpeg/bin\")\n",
    "\n",
    "    print(\"FFmpeg has been installed.\")\n",
    "\n"
   ]
  },
  {
   "cell_type": "code",
   "execution_count": 34,
   "metadata": {},
   "outputs": [
    {
     "name": "stdout",
     "output_type": "stream",
     "text": [
      "7zip is already installed. CompletedProcess(args=['7z', '-version'], returncode=1)\n"
     ]
    }
   ],
   "source": [
    "import os\n",
    "import subprocess\n",
    "import requests\n",
    "import zipfile\n",
    "\n",
    "# set the FFmpeg download URL and file name\n",
    "ffmpeg_url = \"https://www.gyan.dev/ffmpeg/builds/ffmpeg-release-full.7z\"\n",
    "ffmpeg_file = \"ffmpeg.7z\"\n",
    "\n",
    "# check if 7zip is installed\n",
    "try:\n",
    "    subprocess.run([\"7z\",  \"-version\"], stdout=subprocess.DEVNULL, stderr=subprocess.DEVNULL, shell=True)\n",
    "    print(\"7zip is already installed.\")\n",
    "except FileNotFoundError:\n",
    "    print(\"7zip is not installed.\")\n",
    "\n",
    "    # download 7zip\n",
    "    print(\"Downloading 7zip...\")\n",
    "    response = requests.get(\"https://www.7-zip.org/a/7z2102-x64.exe\")\n",
    "    with open(\"7zip.exe\", \"wb\") as f:\n",
    "        f.write(response.content)\n",
    "\n",
    "    # install 7zip\n",
    "    print(\"Installing 7zip...\")\n",
    "    os.system(\"7zip.exe /S\")\n",
    "\n",
    "    # confirm 7zip is installed\n",
    "    subprocess.run([\"7z\",  \"-version\"], stdout=subprocess.DEVNULL, stderr=subprocess.DEVNULL)\n",
    "    print(\"7zip has been installed.\")\n",
    "\n",
    "# check if FFmpeg is installed\n",
    "# try:\n",
    "#     subprocess.run([\"ffmpeg\", \"-version\"], stdout=subprocess.DEVNULL, stderr=subprocess.DEVNULL)\n",
    "#     print(\"FFmpeg is already installed.\")\n",
    "# except FileNotFoundError:\n",
    "#     print(\"FFmpeg is not installed.\")\n",
    "\n",
    "#     # download FFmpeg\n",
    "#     print(f\"Downloading FFmpeg from {ffmpeg_url}...\")\n",
    "#     response = requests.get(ffmpeg_url)\n",
    "#     with open(ffmpeg_file, \"wb\")\n"
   ]
  },
  {
   "cell_type": "code",
   "execution_count": 35,
   "metadata": {},
   "outputs": [
    {
     "ename": "FileNotFoundError",
     "evalue": "[WinError 2] El sistema no puede encontrar el archivo especificado",
     "output_type": "error",
     "traceback": [
      "\u001b[1;31m---------------------------------------------------------------------------\u001b[0m",
      "\u001b[1;31mFileNotFoundError\u001b[0m                         Traceback (most recent call last)",
      "Cell \u001b[1;32mIn[35], line 4\u001b[0m\n\u001b[0;32m      1\u001b[0m \u001b[39mimport\u001b[39;00m \u001b[39msubprocess\u001b[39;00m\n\u001b[0;32m      3\u001b[0m \u001b[39mtry\u001b[39;00m:\n\u001b[1;32m----> 4\u001b[0m     subprocess\u001b[39m.\u001b[39;49mcheck_output([\u001b[39m'\u001b[39;49m\u001b[39m7z\u001b[39;49m\u001b[39m'\u001b[39;49m, \u001b[39m'\u001b[39;49m\u001b[39m-h\u001b[39;49m\u001b[39m'\u001b[39;49m])\n\u001b[0;32m      5\u001b[0m     \u001b[39mprint\u001b[39m(\u001b[39m'\u001b[39m\u001b[39m7zip is installed on your system.\u001b[39m\u001b[39m'\u001b[39m)\n\u001b[0;32m      6\u001b[0m \u001b[39mexcept\u001b[39;00m subprocess\u001b[39m.\u001b[39mCalledProcessError:\n",
      "File \u001b[1;32mc:\\Users\\usuario\\AppData\\Local\\Programs\\Python\\Python310\\lib\\subprocess.py:420\u001b[0m, in \u001b[0;36mcheck_output\u001b[1;34m(timeout, *popenargs, **kwargs)\u001b[0m\n\u001b[0;32m    417\u001b[0m         empty \u001b[39m=\u001b[39m \u001b[39mb\u001b[39m\u001b[39m'\u001b[39m\u001b[39m'\u001b[39m\n\u001b[0;32m    418\u001b[0m     kwargs[\u001b[39m'\u001b[39m\u001b[39minput\u001b[39m\u001b[39m'\u001b[39m] \u001b[39m=\u001b[39m empty\n\u001b[1;32m--> 420\u001b[0m \u001b[39mreturn\u001b[39;00m run(\u001b[39m*\u001b[39mpopenargs, stdout\u001b[39m=\u001b[39mPIPE, timeout\u001b[39m=\u001b[39mtimeout, check\u001b[39m=\u001b[39m\u001b[39mTrue\u001b[39;00m,\n\u001b[0;32m    421\u001b[0m            \u001b[39m*\u001b[39m\u001b[39m*\u001b[39mkwargs)\u001b[39m.\u001b[39mstdout\n",
      "File \u001b[1;32mc:\\Users\\usuario\\AppData\\Local\\Programs\\Python\\Python310\\lib\\subprocess.py:501\u001b[0m, in \u001b[0;36mrun\u001b[1;34m(input, capture_output, timeout, check, *popenargs, **kwargs)\u001b[0m\n\u001b[0;32m    498\u001b[0m     kwargs[\u001b[39m'\u001b[39m\u001b[39mstdout\u001b[39m\u001b[39m'\u001b[39m] \u001b[39m=\u001b[39m PIPE\n\u001b[0;32m    499\u001b[0m     kwargs[\u001b[39m'\u001b[39m\u001b[39mstderr\u001b[39m\u001b[39m'\u001b[39m] \u001b[39m=\u001b[39m PIPE\n\u001b[1;32m--> 501\u001b[0m \u001b[39mwith\u001b[39;00m Popen(\u001b[39m*\u001b[39mpopenargs, \u001b[39m*\u001b[39m\u001b[39m*\u001b[39mkwargs) \u001b[39mas\u001b[39;00m process:\n\u001b[0;32m    502\u001b[0m     \u001b[39mtry\u001b[39;00m:\n\u001b[0;32m    503\u001b[0m         stdout, stderr \u001b[39m=\u001b[39m process\u001b[39m.\u001b[39mcommunicate(\u001b[39minput\u001b[39m, timeout\u001b[39m=\u001b[39mtimeout)\n",
      "File \u001b[1;32mc:\\Users\\usuario\\AppData\\Local\\Programs\\Python\\Python310\\lib\\subprocess.py:966\u001b[0m, in \u001b[0;36mPopen.__init__\u001b[1;34m(self, args, bufsize, executable, stdin, stdout, stderr, preexec_fn, close_fds, shell, cwd, env, universal_newlines, startupinfo, creationflags, restore_signals, start_new_session, pass_fds, user, group, extra_groups, encoding, errors, text, umask, pipesize)\u001b[0m\n\u001b[0;32m    962\u001b[0m         \u001b[39mif\u001b[39;00m \u001b[39mself\u001b[39m\u001b[39m.\u001b[39mtext_mode:\n\u001b[0;32m    963\u001b[0m             \u001b[39mself\u001b[39m\u001b[39m.\u001b[39mstderr \u001b[39m=\u001b[39m io\u001b[39m.\u001b[39mTextIOWrapper(\u001b[39mself\u001b[39m\u001b[39m.\u001b[39mstderr,\n\u001b[0;32m    964\u001b[0m                     encoding\u001b[39m=\u001b[39mencoding, errors\u001b[39m=\u001b[39merrors)\n\u001b[1;32m--> 966\u001b[0m     \u001b[39mself\u001b[39;49m\u001b[39m.\u001b[39;49m_execute_child(args, executable, preexec_fn, close_fds,\n\u001b[0;32m    967\u001b[0m                         pass_fds, cwd, env,\n\u001b[0;32m    968\u001b[0m                         startupinfo, creationflags, shell,\n\u001b[0;32m    969\u001b[0m                         p2cread, p2cwrite,\n\u001b[0;32m    970\u001b[0m                         c2pread, c2pwrite,\n\u001b[0;32m    971\u001b[0m                         errread, errwrite,\n\u001b[0;32m    972\u001b[0m                         restore_signals,\n\u001b[0;32m    973\u001b[0m                         gid, gids, uid, umask,\n\u001b[0;32m    974\u001b[0m                         start_new_session)\n\u001b[0;32m    975\u001b[0m \u001b[39mexcept\u001b[39;00m:\n\u001b[0;32m    976\u001b[0m     \u001b[39m# Cleanup if the child failed starting.\u001b[39;00m\n\u001b[0;32m    977\u001b[0m     \u001b[39mfor\u001b[39;00m f \u001b[39min\u001b[39;00m \u001b[39mfilter\u001b[39m(\u001b[39mNone\u001b[39;00m, (\u001b[39mself\u001b[39m\u001b[39m.\u001b[39mstdin, \u001b[39mself\u001b[39m\u001b[39m.\u001b[39mstdout, \u001b[39mself\u001b[39m\u001b[39m.\u001b[39mstderr)):\n",
      "File \u001b[1;32mc:\\Users\\usuario\\AppData\\Local\\Programs\\Python\\Python310\\lib\\subprocess.py:1435\u001b[0m, in \u001b[0;36mPopen._execute_child\u001b[1;34m(self, args, executable, preexec_fn, close_fds, pass_fds, cwd, env, startupinfo, creationflags, shell, p2cread, p2cwrite, c2pread, c2pwrite, errread, errwrite, unused_restore_signals, unused_gid, unused_gids, unused_uid, unused_umask, unused_start_new_session)\u001b[0m\n\u001b[0;32m   1433\u001b[0m \u001b[39m# Start the process\u001b[39;00m\n\u001b[0;32m   1434\u001b[0m \u001b[39mtry\u001b[39;00m:\n\u001b[1;32m-> 1435\u001b[0m     hp, ht, pid, tid \u001b[39m=\u001b[39m _winapi\u001b[39m.\u001b[39;49mCreateProcess(executable, args,\n\u001b[0;32m   1436\u001b[0m                              \u001b[39m# no special security\u001b[39;49;00m\n\u001b[0;32m   1437\u001b[0m                              \u001b[39mNone\u001b[39;49;00m, \u001b[39mNone\u001b[39;49;00m,\n\u001b[0;32m   1438\u001b[0m                              \u001b[39mint\u001b[39;49m(\u001b[39mnot\u001b[39;49;00m close_fds),\n\u001b[0;32m   1439\u001b[0m                              creationflags,\n\u001b[0;32m   1440\u001b[0m                              env,\n\u001b[0;32m   1441\u001b[0m                              cwd,\n\u001b[0;32m   1442\u001b[0m                              startupinfo)\n\u001b[0;32m   1443\u001b[0m \u001b[39mfinally\u001b[39;00m:\n\u001b[0;32m   1444\u001b[0m     \u001b[39m# Child is launched. Close the parent's copy of those pipe\u001b[39;00m\n\u001b[0;32m   1445\u001b[0m     \u001b[39m# handles that only the child should have open.  You need\u001b[39;00m\n\u001b[1;32m   (...)\u001b[0m\n\u001b[0;32m   1448\u001b[0m     \u001b[39m# pipe will not close when the child process exits and the\u001b[39;00m\n\u001b[0;32m   1449\u001b[0m     \u001b[39m# ReadFile will hang.\u001b[39;00m\n\u001b[0;32m   1450\u001b[0m     \u001b[39mself\u001b[39m\u001b[39m.\u001b[39m_close_pipe_fds(p2cread, p2cwrite,\n\u001b[0;32m   1451\u001b[0m                          c2pread, c2pwrite,\n\u001b[0;32m   1452\u001b[0m                          errread, errwrite)\n",
      "\u001b[1;31mFileNotFoundError\u001b[0m: [WinError 2] El sistema no puede encontrar el archivo especificado"
     ]
    }
   ],
   "source": [
    "import subprocess\n",
    "\n",
    "try:\n",
    "    subprocess.check_output(['7z', '-h'])\n",
    "    print('7zip is installed on your system.')\n",
    "except subprocess.CalledProcessError:\n",
    "    print('7zip is not installed on your system.')\n"
   ]
  },
  {
   "cell_type": "code",
   "execution_count": 36,
   "metadata": {},
   "outputs": [
    {
     "ename": "HTTPError",
     "evalue": "HTTP Error 404: Not Found",
     "output_type": "error",
     "traceback": [
      "\u001b[1;31m---------------------------------------------------------------------------\u001b[0m",
      "\u001b[1;31mHTTPError\u001b[0m                                 Traceback (most recent call last)",
      "Cell \u001b[1;32mIn[36], line 18\u001b[0m\n\u001b[0;32m     15\u001b[0m     exit()\n\u001b[0;32m     17\u001b[0m \u001b[39m# Download the FFmpeg zip file\u001b[39;00m\n\u001b[1;32m---> 18\u001b[0m filename, _ \u001b[39m=\u001b[39m urllib\u001b[39m.\u001b[39;49mrequest\u001b[39m.\u001b[39;49murlretrieve(FFMPEG_URL)\n\u001b[0;32m     20\u001b[0m \u001b[39m# Extract the FFmpeg zip file\u001b[39;00m\n\u001b[0;32m     21\u001b[0m \u001b[39mwith\u001b[39;00m zipfile\u001b[39m.\u001b[39mZipFile(filename, \u001b[39m'\u001b[39m\u001b[39mr\u001b[39m\u001b[39m'\u001b[39m) \u001b[39mas\u001b[39;00m zip_ref:\n",
      "File \u001b[1;32mc:\\Users\\usuario\\AppData\\Local\\Programs\\Python\\Python310\\lib\\urllib\\request.py:241\u001b[0m, in \u001b[0;36murlretrieve\u001b[1;34m(url, filename, reporthook, data)\u001b[0m\n\u001b[0;32m    224\u001b[0m \u001b[39m\u001b[39m\u001b[39m\"\"\"\u001b[39;00m\n\u001b[0;32m    225\u001b[0m \u001b[39mRetrieve a URL into a temporary location on disk.\u001b[39;00m\n\u001b[0;32m    226\u001b[0m \n\u001b[1;32m   (...)\u001b[0m\n\u001b[0;32m    237\u001b[0m \u001b[39mdata file as well as the resulting HTTPMessage object.\u001b[39;00m\n\u001b[0;32m    238\u001b[0m \u001b[39m\"\"\"\u001b[39;00m\n\u001b[0;32m    239\u001b[0m url_type, path \u001b[39m=\u001b[39m _splittype(url)\n\u001b[1;32m--> 241\u001b[0m \u001b[39mwith\u001b[39;00m contextlib\u001b[39m.\u001b[39mclosing(urlopen(url, data)) \u001b[39mas\u001b[39;00m fp:\n\u001b[0;32m    242\u001b[0m     headers \u001b[39m=\u001b[39m fp\u001b[39m.\u001b[39minfo()\n\u001b[0;32m    244\u001b[0m     \u001b[39m# Just return the local path and the \"headers\" for file://\u001b[39;00m\n\u001b[0;32m    245\u001b[0m     \u001b[39m# URLs. No sense in performing a copy unless requested.\u001b[39;00m\n",
      "File \u001b[1;32mc:\\Users\\usuario\\AppData\\Local\\Programs\\Python\\Python310\\lib\\urllib\\request.py:216\u001b[0m, in \u001b[0;36murlopen\u001b[1;34m(url, data, timeout, cafile, capath, cadefault, context)\u001b[0m\n\u001b[0;32m    214\u001b[0m \u001b[39melse\u001b[39;00m:\n\u001b[0;32m    215\u001b[0m     opener \u001b[39m=\u001b[39m _opener\n\u001b[1;32m--> 216\u001b[0m \u001b[39mreturn\u001b[39;00m opener\u001b[39m.\u001b[39;49mopen(url, data, timeout)\n",
      "File \u001b[1;32mc:\\Users\\usuario\\AppData\\Local\\Programs\\Python\\Python310\\lib\\urllib\\request.py:525\u001b[0m, in \u001b[0;36mOpenerDirector.open\u001b[1;34m(self, fullurl, data, timeout)\u001b[0m\n\u001b[0;32m    523\u001b[0m \u001b[39mfor\u001b[39;00m processor \u001b[39min\u001b[39;00m \u001b[39mself\u001b[39m\u001b[39m.\u001b[39mprocess_response\u001b[39m.\u001b[39mget(protocol, []):\n\u001b[0;32m    524\u001b[0m     meth \u001b[39m=\u001b[39m \u001b[39mgetattr\u001b[39m(processor, meth_name)\n\u001b[1;32m--> 525\u001b[0m     response \u001b[39m=\u001b[39m meth(req, response)\n\u001b[0;32m    527\u001b[0m \u001b[39mreturn\u001b[39;00m response\n",
      "File \u001b[1;32mc:\\Users\\usuario\\AppData\\Local\\Programs\\Python\\Python310\\lib\\urllib\\request.py:634\u001b[0m, in \u001b[0;36mHTTPErrorProcessor.http_response\u001b[1;34m(self, request, response)\u001b[0m\n\u001b[0;32m    631\u001b[0m \u001b[39m# According to RFC 2616, \"2xx\" code indicates that the client's\u001b[39;00m\n\u001b[0;32m    632\u001b[0m \u001b[39m# request was successfully received, understood, and accepted.\u001b[39;00m\n\u001b[0;32m    633\u001b[0m \u001b[39mif\u001b[39;00m \u001b[39mnot\u001b[39;00m (\u001b[39m200\u001b[39m \u001b[39m<\u001b[39m\u001b[39m=\u001b[39m code \u001b[39m<\u001b[39m \u001b[39m300\u001b[39m):\n\u001b[1;32m--> 634\u001b[0m     response \u001b[39m=\u001b[39m \u001b[39mself\u001b[39;49m\u001b[39m.\u001b[39;49mparent\u001b[39m.\u001b[39;49merror(\n\u001b[0;32m    635\u001b[0m         \u001b[39m'\u001b[39;49m\u001b[39mhttp\u001b[39;49m\u001b[39m'\u001b[39;49m, request, response, code, msg, hdrs)\n\u001b[0;32m    637\u001b[0m \u001b[39mreturn\u001b[39;00m response\n",
      "File \u001b[1;32mc:\\Users\\usuario\\AppData\\Local\\Programs\\Python\\Python310\\lib\\urllib\\request.py:563\u001b[0m, in \u001b[0;36mOpenerDirector.error\u001b[1;34m(self, proto, *args)\u001b[0m\n\u001b[0;32m    561\u001b[0m \u001b[39mif\u001b[39;00m http_err:\n\u001b[0;32m    562\u001b[0m     args \u001b[39m=\u001b[39m (\u001b[39mdict\u001b[39m, \u001b[39m'\u001b[39m\u001b[39mdefault\u001b[39m\u001b[39m'\u001b[39m, \u001b[39m'\u001b[39m\u001b[39mhttp_error_default\u001b[39m\u001b[39m'\u001b[39m) \u001b[39m+\u001b[39m orig_args\n\u001b[1;32m--> 563\u001b[0m     \u001b[39mreturn\u001b[39;00m \u001b[39mself\u001b[39;49m\u001b[39m.\u001b[39;49m_call_chain(\u001b[39m*\u001b[39;49margs)\n",
      "File \u001b[1;32mc:\\Users\\usuario\\AppData\\Local\\Programs\\Python\\Python310\\lib\\urllib\\request.py:496\u001b[0m, in \u001b[0;36mOpenerDirector._call_chain\u001b[1;34m(self, chain, kind, meth_name, *args)\u001b[0m\n\u001b[0;32m    494\u001b[0m \u001b[39mfor\u001b[39;00m handler \u001b[39min\u001b[39;00m handlers:\n\u001b[0;32m    495\u001b[0m     func \u001b[39m=\u001b[39m \u001b[39mgetattr\u001b[39m(handler, meth_name)\n\u001b[1;32m--> 496\u001b[0m     result \u001b[39m=\u001b[39m func(\u001b[39m*\u001b[39;49margs)\n\u001b[0;32m    497\u001b[0m     \u001b[39mif\u001b[39;00m result \u001b[39mis\u001b[39;00m \u001b[39mnot\u001b[39;00m \u001b[39mNone\u001b[39;00m:\n\u001b[0;32m    498\u001b[0m         \u001b[39mreturn\u001b[39;00m result\n",
      "File \u001b[1;32mc:\\Users\\usuario\\AppData\\Local\\Programs\\Python\\Python310\\lib\\urllib\\request.py:643\u001b[0m, in \u001b[0;36mHTTPDefaultErrorHandler.http_error_default\u001b[1;34m(self, req, fp, code, msg, hdrs)\u001b[0m\n\u001b[0;32m    642\u001b[0m \u001b[39mdef\u001b[39;00m \u001b[39mhttp_error_default\u001b[39m(\u001b[39mself\u001b[39m, req, fp, code, msg, hdrs):\n\u001b[1;32m--> 643\u001b[0m     \u001b[39mraise\u001b[39;00m HTTPError(req\u001b[39m.\u001b[39mfull_url, code, msg, hdrs, fp)\n",
      "\u001b[1;31mHTTPError\u001b[0m: HTTP Error 404: Not Found"
     ]
    }
   ],
   "source": [
    "import os\n",
    "import platform\n",
    "import urllib.request\n",
    "import zipfile\n",
    "\n",
    "# Define the URL for the FFmpeg download\n",
    "FFMPEG_URL = \"https://ffmpeg.org/releases/ffmpeg-4.4-full_build.zip\"\n",
    "\n",
    "# Define the output directory for FFmpeg\n",
    "OUTPUT_DIR = \"C:\\\\ffmpeg\"\n",
    "\n",
    "# Check if FFmpeg is already installed\n",
    "if os.path.exists(os.path.join(OUTPUT_DIR, \"ffmpeg.exe\")):\n",
    "    print(\"FFmpeg is already installed on your system.\")\n",
    "    exit()\n",
    "\n",
    "# Download the FFmpeg zip file\n",
    "filename, _ = urllib.request.urlretrieve(FFMPEG_URL)\n",
    "\n",
    "# Extract the FFmpeg zip file\n",
    "with zipfile.ZipFile(filename, 'r') as zip_ref:\n",
    "    zip_ref.extractall(OUTPUT_DIR)\n",
    "\n",
    "# Add FFmpeg to the system PATH\n",
    "if platform.system() == \"Windows\":\n",
    "    os.environ[\"PATH\"] += os.pathsep + os.path.join(OUTPUT_DIR, \"bin\")\n",
    "\n",
    "# Verify the installation\n",
    "if os.path.exists(os.path.join(OUTPUT_DIR, \"ffmpeg.exe\")):\n",
    "    print(\"FFmpeg was installed successfully.\")\n",
    "else:\n",
    "    print(\"An error occurred while installing FFmpeg.\")\n"
   ]
  },
  {
   "cell_type": "code",
   "execution_count": 28,
   "metadata": {},
   "outputs": [
    {
     "name": "stdout",
     "output_type": "stream",
     "text": [
      "\n",
      "El proceso esta corriendo en la memoria: <Popen: returncode: None args: 'python -m demucs -d cpu --mp3 --mp3-bitrate ...> \n",
      "Proceso Jósean Log - Beso (Lyric Video).mp3 terminado. Output:  b'\\x1b[1mImportant: the default model was recently changed to `htdemucs`\\x1b[0m the latest Hybrid Transformer Demucs model. In some cases, this model can actually perform worse than previous models. To get back the old default model use `-n mdx_extra_q`.\\r\\nSelected model is a bag of 1 models. You will see that many progress bars per track.\\r\\nSeparated tracks will be stored in C:\\\\Users\\\\usuario\\\\Desktop\\\\projects\\\\Automation\\\\music_tracks_splitter\\\\separated\\\\htdemucs\\r\\n'\n",
      "Processed\n"
     ]
    }
   ],
   "source": [
    "import subprocess\n",
    "\n",
    "# set up the input and output file paths\n",
    "input_files = [\"Jósean Log - Beso (Lyric Video).mp3\"]\n",
    "\n",
    "# loop through the input files and process each file with Demucs\n",
    "for input_file in input_files:\n",
    "    # set up the demucs command with the input and output file paths\n",
    "    command = f\"python -m demucs -d cpu --mp3 --mp3-bitrate 320 {input_file}\"\n",
    "    # use subprocess to run the demucs command as a subprocess\n",
    "    p = subprocess.Popen(command, stdout=subprocess.PIPE,shell = True)\n",
    "    # wait for the subprocess to finish\n",
    "    out = p.stdout.read()\n",
    "    print(f\"\\nEl proceso esta corriendo en la memoria: {p} \\nProceso {input_file} terminado. Output:  {out}\")\n",
    "    # print a message to confirm the file has been processed\n",
    "    print(f\"Processed\")\n",
    "\n",
    "\n",
    "    \n",
    "\n"
   ]
  },
  {
   "cell_type": "code",
   "execution_count": 41,
   "metadata": {},
   "outputs": [
    {
     "name": "stdout",
     "output_type": "stream",
     "text": [
      "Extracting ffmpeg...\n"
     ]
    },
    {
     "ename": "BadZipFile",
     "evalue": "File is not a zip file",
     "output_type": "error",
     "traceback": [
      "\u001b[1;31m---------------------------------------------------------------------------\u001b[0m",
      "\u001b[1;31mBadZipFile\u001b[0m                                Traceback (most recent call last)",
      "Cell \u001b[1;32mIn[41], line 17\u001b[0m\n\u001b[0;32m     15\u001b[0m \u001b[39mprint\u001b[39m(\u001b[39m\"\u001b[39m\u001b[39mExtracting ffmpeg...\u001b[39m\u001b[39m\"\u001b[39m)\n\u001b[0;32m     16\u001b[0m \u001b[39m#consider this zip is a .7z file not a .zip file so use a lib that allows to use 7zip. extract the folder ffmpeg-5.1.2-full_build and install the program\u001b[39;00m\n\u001b[1;32m---> 17\u001b[0m \u001b[39mwith\u001b[39;00m zipfile\u001b[39m.\u001b[39;49mZipFile(\u001b[39m\"\u001b[39;49m\u001b[39mffmpeg.7z\u001b[39;49m\u001b[39m\"\u001b[39;49m, \u001b[39m\"\u001b[39;49m\u001b[39mr\u001b[39;49m\u001b[39m\"\u001b[39;49m) \u001b[39mas\u001b[39;00m zip_ref:\n\u001b[0;32m     18\u001b[0m     zip_ref\u001b[39m.\u001b[39mextractall(\u001b[39m\"\u001b[39m\u001b[39m./ffmpeg\u001b[39m\u001b[39m\"\u001b[39m)\n\u001b[0;32m     22\u001b[0m \u001b[39m# add ffmpeg to PATH\u001b[39;00m\n",
      "File \u001b[1;32mc:\\Users\\usuario\\AppData\\Local\\Programs\\Python\\Python310\\lib\\zipfile.py:1258\u001b[0m, in \u001b[0;36mZipFile.__init__\u001b[1;34m(self, file, mode, compression, allowZip64, compresslevel, strict_timestamps)\u001b[0m\n\u001b[0;32m   1256\u001b[0m \u001b[39mtry\u001b[39;00m:\n\u001b[0;32m   1257\u001b[0m     \u001b[39mif\u001b[39;00m mode \u001b[39m==\u001b[39m \u001b[39m'\u001b[39m\u001b[39mr\u001b[39m\u001b[39m'\u001b[39m:\n\u001b[1;32m-> 1258\u001b[0m         \u001b[39mself\u001b[39;49m\u001b[39m.\u001b[39;49m_RealGetContents()\n\u001b[0;32m   1259\u001b[0m     \u001b[39melif\u001b[39;00m mode \u001b[39min\u001b[39;00m (\u001b[39m'\u001b[39m\u001b[39mw\u001b[39m\u001b[39m'\u001b[39m, \u001b[39m'\u001b[39m\u001b[39mx\u001b[39m\u001b[39m'\u001b[39m):\n\u001b[0;32m   1260\u001b[0m         \u001b[39m# set the modified flag so central directory gets written\u001b[39;00m\n\u001b[0;32m   1261\u001b[0m         \u001b[39m# even if no files are added to the archive\u001b[39;00m\n\u001b[0;32m   1262\u001b[0m         \u001b[39mself\u001b[39m\u001b[39m.\u001b[39m_didModify \u001b[39m=\u001b[39m \u001b[39mTrue\u001b[39;00m\n",
      "File \u001b[1;32mc:\\Users\\usuario\\AppData\\Local\\Programs\\Python\\Python310\\lib\\zipfile.py:1325\u001b[0m, in \u001b[0;36mZipFile._RealGetContents\u001b[1;34m(self)\u001b[0m\n\u001b[0;32m   1323\u001b[0m     \u001b[39mraise\u001b[39;00m BadZipFile(\u001b[39m\"\u001b[39m\u001b[39mFile is not a zip file\u001b[39m\u001b[39m\"\u001b[39m)\n\u001b[0;32m   1324\u001b[0m \u001b[39mif\u001b[39;00m \u001b[39mnot\u001b[39;00m endrec:\n\u001b[1;32m-> 1325\u001b[0m     \u001b[39mraise\u001b[39;00m BadZipFile(\u001b[39m\"\u001b[39m\u001b[39mFile is not a zip file\u001b[39m\u001b[39m\"\u001b[39m)\n\u001b[0;32m   1326\u001b[0m \u001b[39mif\u001b[39;00m \u001b[39mself\u001b[39m\u001b[39m.\u001b[39mdebug \u001b[39m>\u001b[39m \u001b[39m1\u001b[39m:\n\u001b[0;32m   1327\u001b[0m     \u001b[39mprint\u001b[39m(endrec)\n",
      "\u001b[1;31mBadZipFile\u001b[0m: File is not a zip file"
     ]
    }
   ],
   "source": [
    "# install ffmpeg on windows\n",
    "import os\n",
    "import requests\n",
    "import zipfile\n",
    "#do it instead with a library compatible with 7zip\n",
    "\n",
    "\n",
    "# # download ffmpeg\n",
    "# print(\"Downloading ffmpeg...\")\n",
    "# response = requests.get(\"https://www.gyan.dev/ffmpeg/builds/ffmpeg-release-full.7z\")\n",
    "# with open(\"ffmpeg.7z\", \"wb\") as f:\n",
    "#     f.write(response.content)\n",
    "\n",
    "# extract ffmpeg\n",
    "print(\"Extracting ffmpeg...\")\n",
    "#consider this zip is a .7z file not a .zip file so use a lib that allows to use 7zip. extract the folder ffmpeg-5.1.2-full_build and install the program\n",
    "\n",
    "\n",
    "\n",
    "\n",
    "\n",
    "# add ffmpeg to PATH\n",
    "os.environ[\"PATH\"] += os.pathsep + os.path.abspath(\"./ffmpeg/bin\")\n"
   ]
  },
  {
   "cell_type": "code",
   "execution_count": 42,
   "metadata": {},
   "outputs": [
    {
     "name": "stdout",
     "output_type": "stream",
     "text": [
      "Extracting ffmpeg...\n",
      "Adding ffmpeg to system PATH...\n",
      "Error: FFmpeg was not installed correctly.\n"
     ]
    }
   ],
   "source": [
    "import os\n",
    "import requests\n",
    "import subprocess\n",
    "\n",
    "# # download ffmpeg\n",
    "# print(\"Downloading ffmpeg...\")\n",
    "# response = requests.get(\"https://www.gyan.dev/ffmpeg/builds/ffmpeg-release-full.7z\")\n",
    "\n",
    "# save ffmpeg to disk\n",
    "with open(\"ffmpeg.7z\", \"wb\") as file:\n",
    "    file.write(response.content)\n",
    "\n",
    "# extract ffmpeg\n",
    "print(\"Extracting ffmpeg...\")\n",
    "os.system(\"7z x ffmpeg.7z -oC:\\\\ffmpeg -aoa\")\n",
    "\n",
    "# add ffmpeg to system PATH\n",
    "print(\"Adding ffmpeg to system PATH...\")\n",
    "subprocess.call('setx /M PATH \"%PATH%;C:\\\\ffmpeg\\\\bin\"')\n",
    "\n",
    "# check if ffmpeg is installed\n",
    "try:\n",
    "    subprocess.run(['ffmpeg', '-version'], stdout=subprocess.PIPE, stderr=subprocess.PIPE)\n",
    "    print(\"FFmpeg has been installed successfully!\")\n",
    "except FileNotFoundError:\n",
    "    print(\"Error: FFmpeg was not installed correctly.\")\n"
   ]
  },
  {
   "cell_type": "code",
   "execution_count": 44,
   "metadata": {},
   "outputs": [
    {
     "name": "stdout",
     "output_type": "stream",
     "text": [
      "Downloading 7-Zip...\n",
      "Installing 7-Zip...\n",
      "Error: 7-Zip was not installed correctly.\n"
     ]
    }
   ],
   "source": [
    "import os\n",
    "import requests\n",
    "\n",
    "# download 7-Zip\n",
    "print(\"Downloading 7-Zip...\")\n",
    "response = requests.get(\"\")\n",
    "\n",
    "# save 7-Zip to disk\n",
    "with open(\"7zip.exe\", \"wb\") as file:\n",
    "    file.write(response.content)\n",
    "\n",
    "# install 7-Zip\n",
    "print(\"Installing 7-Zip...\")\n",
    "# do it authotizing the installation in the command line\n",
    "# with admin permissions\n",
    "os.system(\"7zip.exe /S\")\n",
    "\n",
    "# check if 7-Zip is installed\n",
    "try:\n",
    "    subprocess.run(['7z'], stdout=subprocess.PIPE, stderr=subprocess.PIPE)\n",
    "    print(\"7-Zip has been installed successfully!\")\n",
    "except FileNotFoundError:\n",
    "    print(\"Error: 7-Zip was not installed correctly.\")\n"
   ]
  },
  {
   "cell_type": "code",
   "execution_count": 47,
   "metadata": {},
   "outputs": [
    {
     "ename": "NameError",
     "evalue": "name '__file__' is not defined",
     "output_type": "error",
     "traceback": [
      "\u001b[1;31m---------------------------------------------------------------------------\u001b[0m",
      "\u001b[1;31mNameError\u001b[0m                                 Traceback (most recent call last)",
      "Cell \u001b[1;32mIn[47], line 9\u001b[0m\n\u001b[0;32m      6\u001b[0m \u001b[39m# check if script is running with admin privileges\u001b[39;00m\n\u001b[0;32m      7\u001b[0m \u001b[39mif\u001b[39;00m \u001b[39mnot\u001b[39;00m ctypes\u001b[39m.\u001b[39mwindll\u001b[39m.\u001b[39mshell32\u001b[39m.\u001b[39mIsUserAnAdmin():\n\u001b[0;32m      8\u001b[0m     \u001b[39m# re-run the script with admin privileges\u001b[39;00m\n\u001b[1;32m----> 9\u001b[0m     ctypes\u001b[39m.\u001b[39mwindll\u001b[39m.\u001b[39mshell32\u001b[39m.\u001b[39mShellExecuteW(\u001b[39mNone\u001b[39;00m, \u001b[39m\"\u001b[39m\u001b[39mrunas\u001b[39m\u001b[39m\"\u001b[39m, \u001b[39mf\u001b[39m\u001b[39m\"\u001b[39m\u001b[39m{\u001b[39;00mos\u001b[39m.\u001b[39mpath\u001b[39m.\u001b[39mabspath(\u001b[39m__file__\u001b[39;49m)\u001b[39m}\u001b[39;00m\u001b[39m\"\u001b[39m, \u001b[39m\"\u001b[39m\u001b[39m\"\u001b[39m, \u001b[39mNone\u001b[39;00m, \u001b[39m1\u001b[39m)\n\u001b[0;32m     10\u001b[0m     exit()\n\u001b[0;32m     12\u001b[0m \u001b[39m# download 7-Zip\u001b[39;00m\n",
      "\u001b[1;31mNameError\u001b[0m: name '__file__' is not defined"
     ]
    }
   ],
   "source": [
    "import os\n",
    "import requests\n",
    "import subprocess\n",
    "import ctypes\n",
    "\n",
    "# check if script is running with admin privileges\n",
    "if not ctypes.windll.shell32.IsUserAnAdmin():\n",
    "    # re-run the script with admin privileges\n",
    "    ctypes.windll.shell32.ShellExecuteW(None, \"runas\", f\"{os.path.abspath(__file__)}\", \"\", None, 1)\n",
    "    exit()\n",
    "\n",
    "# download 7-Zip\n",
    "print(\"Downloading 7-Zip...\")\n",
    "response = requests.get(\"https://www.7-zip.org/a/7z2104-x64.exe\")\n",
    "\n",
    "# save 7-Zip to disk\n",
    "with open(\"7zip.exe\", \"wb\") as file:\n",
    "    file.write(response.content)\n",
    "\n",
    "# install 7-Zip\n",
    "print(\"Installing 7-Zip...\")\n",
    "os.system(\"7zip.exe /S\")\n",
    "\n",
    "# add 7-Zip to system PATH\n",
    "print(\"Adding 7-Zip to system PATH...\")\n",
    "subprocess.call('setx /M PATH \"%PATH%;C:\\\\Program Files\\\\7-Zip\"', shell=True)\n",
    "\n",
    "# check if 7-Zip is installed\n",
    "try:\n",
    "    subprocess.run(['7z'], stdout=subprocess.PIPE, stderr=subprocess.PIPE)\n",
    "    print(\"7-Zip has been installed successfully!\")\n",
    "except FileNotFoundError:\n",
    "    print(\"Error: 7-Zip was not installed correctly.\")\n",
    "\n",
    "# download FFmpeg\n",
    "print(\"Downloading FFmpeg...\")\n",
    "response = requests.get(\"https://www.gyan.dev/ffmpeg/builds/ffmpeg-release-full.7z\")\n",
    "\n",
    "# save FFmpeg to disk\n",
    "with open(\"ffmpeg.7z\", \"wb\") as file:\n",
    "    file.write(response.content)\n",
    "\n",
    "# extract FFmpeg\n",
    "print(\"Extracting FFmpeg...\")\n",
    "os.system(\"7z x ffmpeg.7z -oC:\\\\ffmpeg -aoa\")\n",
    "\n",
    "# add FFmpeg to system PATH\n",
    "print(\"Adding FFmpeg to system PATH...\")\n",
    "subprocess.call('setx /M PATH \"%PATH%;C:\\\\ffmpeg\\\\bin\"', shell=True)\n",
    "\n",
    "# check if FFmpeg is installed\n",
    "try:\n",
    "    subprocess.run(['ffmpeg', '-version'], stdout=subprocess.PIPE, stderr=subprocess.PIPE)\n",
    "    print(\"FFmpeg has been installed successfully!\")\n",
    "except FileNotFoundError:\n",
    "    print(\"Error: FFmpeg was not installed correctly.\")\n"
   ]
  },
  {
   "cell_type": "code",
   "execution_count": 11,
   "metadata": {},
   "outputs": [
    {
     "name": "stdout",
     "output_type": "stream",
     "text": [
      "Directory added to path successfully!\n",
      "Path is not in system path.\n"
     ]
    }
   ],
   "source": [
    "import os\n",
    "\n",
    "# add a directory to the path\n",
    "new_path = 'C:\\\\Program Files\\\\7-Zip'\n",
    "os.environ['PATH'] += os.pathsep + new_path\n",
    "\n",
    "# check if the directory was added\n",
    "if new_path in os.environ['PATH']:\n",
    "    print(\"Directory added to path successfully!\")\n",
    "else:\n",
    "    print(\"Error: directory not added to path.\")\n",
    "\n",
    "#check if the path is in the system path\n",
    "import os\n",
    "import sys\n",
    "\n",
    "# get the current system path\n",
    "path = os.environ['PATH']\n",
    "\n",
    "# check if the path is in the system path\n",
    "if path in sys.path:\n",
    "    print(\"Path is in system path.\")\n",
    "else:\n",
    "    print(\"Path is not in system path.\")\n"
   ]
  },
  {
   "cell_type": "code",
   "execution_count": 21,
   "metadata": {},
   "outputs": [
    {
     "name": "stdout",
     "output_type": "stream",
     "text": [
      "\n",
      "El proceso esta corriendo en la memoria:  <Popen: returncode: None args: 'setx /M PATH \"%PATH%;C:\\\\Program Files\\x07-Z...> \n",
      "Proceso node.js terminado. Output:  b''\n"
     ]
    },
    {
     "data": {
      "text/plain": [
       "0"
      ]
     },
     "execution_count": 21,
     "metadata": {},
     "output_type": "execute_result"
    }
   ],
   "source": [
    "import subprocess\n",
    "# subprocess.call(['setx', 'PATH', f'%PATH%;{new_path}'], shell=True)\n",
    "\n",
    "\n",
    "# show the ouput of the command\n",
    "p = subprocess.Popen('setx /M PATH \"%PATH%;C:\\Program Files\\7-Zip\" S/  HKEY_LOCAL_MACHINE /U \"usuario\" /P \"111111\"', stdout=subprocess.PIPE,shell = True)\n",
    "out = p.stdout.read()\n",
    "print(\"\\nEl proceso esta corriendo en la memoria: \", p, \"\\nProceso node.js terminado. Output: \",out)\n",
    "subprocess.call(\"echo $PATH\", shell=True)\n"
   ]
  },
  {
   "cell_type": "code",
   "execution_count": 24,
   "metadata": {},
   "outputs": [
    {
     "ename": "ModuleNotFoundError",
     "evalue": "No module named 'admin'",
     "output_type": "error",
     "traceback": [
      "\u001b[1;31m---------------------------------------------------------------------------\u001b[0m",
      "\u001b[1;31mModuleNotFoundError\u001b[0m                       Traceback (most recent call last)",
      "Cell \u001b[1;32mIn[24], line 1\u001b[0m\n\u001b[1;32m----> 1\u001b[0m \u001b[39mimport\u001b[39;00m \u001b[39madmin\u001b[39;00m\n\u001b[0;32m      2\u001b[0m \u001b[39mif\u001b[39;00m \u001b[39mnot\u001b[39;00m admin\u001b[39m.\u001b[39misUserAdmin():\n\u001b[0;32m      3\u001b[0m     admin\u001b[39m.\u001b[39mrunAsAdmin()\n",
      "\u001b[1;31mModuleNotFoundError\u001b[0m: No module named 'admin'"
     ]
    }
   ],
   "source": [
    "import admin\n",
    "if not admin.isUserAdmin():\n",
    "    admin.runAsAdmin()\n"
   ]
  },
  {
   "cell_type": "code",
   "execution_count": 26,
   "metadata": {},
   "outputs": [
    {
     "ename": "RuntimeError",
     "evalue": "Could not run 'setx /M PATH \"%PATH%;C:\\\\Program Files\\x07-Zip\"' as administrator (error code 2)",
     "output_type": "error",
     "traceback": [
      "\u001b[1;31m---------------------------------------------------------------------------\u001b[0m",
      "\u001b[1;31mRuntimeError\u001b[0m                              Traceback (most recent call last)",
      "Cell \u001b[1;32mIn[26], line 17\u001b[0m\n\u001b[0;32m     14\u001b[0m         \u001b[39mif\u001b[39;00m ret \u001b[39m<\u001b[39m\u001b[39m=\u001b[39m \u001b[39m32\u001b[39m:\n\u001b[0;32m     15\u001b[0m             \u001b[39mraise\u001b[39;00m \u001b[39mRuntimeError\u001b[39;00m(\u001b[39m'\u001b[39m\u001b[39mCould not run \u001b[39m\u001b[39m%r\u001b[39;00m\u001b[39m as administrator (error code \u001b[39m\u001b[39m%d\u001b[39;00m\u001b[39m)\u001b[39m\u001b[39m'\u001b[39m \u001b[39m%\u001b[39m (cmd_line, ret))\n\u001b[1;32m---> 17\u001b[0m run_as_admin(\u001b[39m'\u001b[39;49m\u001b[39msetx /M PATH \u001b[39;49m\u001b[39m\"\u001b[39;49m\u001b[39m%\u001b[39;49m\u001b[39mPATH\u001b[39;49m\u001b[39m%\u001b[39;49m\u001b[39m;C:\u001b[39;49m\u001b[39m\\\u001b[39;49m\u001b[39mProgram Files\u001b[39;49m\u001b[39m\\7\u001b[39;49;00m\u001b[39m-Zip\u001b[39;49m\u001b[39m\"\u001b[39;49m\u001b[39m'\u001b[39;49m)\n",
      "Cell \u001b[1;32mIn[26], line 15\u001b[0m, in \u001b[0;36mrun_as_admin\u001b[1;34m(cmd_line)\u001b[0m\n\u001b[0;32m     13\u001b[0m ret \u001b[39m=\u001b[39m ctypes\u001b[39m.\u001b[39mwindll\u001b[39m.\u001b[39mshell32\u001b[39m.\u001b[39mShellExecuteW(\u001b[39mNone\u001b[39;00m, \u001b[39m'\u001b[39m\u001b[39mrunas\u001b[39m\u001b[39m'\u001b[39m, cmd_line, \u001b[39mNone\u001b[39;00m, \u001b[39mNone\u001b[39;00m, show_cmd)\n\u001b[0;32m     14\u001b[0m \u001b[39mif\u001b[39;00m ret \u001b[39m<\u001b[39m\u001b[39m=\u001b[39m \u001b[39m32\u001b[39m:\n\u001b[1;32m---> 15\u001b[0m     \u001b[39mraise\u001b[39;00m \u001b[39mRuntimeError\u001b[39;00m(\u001b[39m'\u001b[39m\u001b[39mCould not run \u001b[39m\u001b[39m%r\u001b[39;00m\u001b[39m as administrator (error code \u001b[39m\u001b[39m%d\u001b[39;00m\u001b[39m)\u001b[39m\u001b[39m'\u001b[39m \u001b[39m%\u001b[39m (cmd_line, ret))\n",
      "\u001b[1;31mRuntimeError\u001b[0m: Could not run 'setx /M PATH \"%PATH%;C:\\\\Program Files\\x07-Zip\"' as administrator (error code 2)"
     ]
    }
   ],
   "source": [
    "import ctypes\n",
    "\n",
    "def run_as_admin(cmd_line):\n",
    "    '''Run the given command line as administrator'''\n",
    "    if ctypes.windll.shell32.IsUserAnAdmin():\n",
    "        # Already running as admin, just execute the command line\n",
    "        return subprocess.check_output(cmd_line)\n",
    "    else:\n",
    "        # Run the command line as administrator\n",
    "        args = [cmd_line]\n",
    "        # 'runas' verb to run as administrator\n",
    "        show_cmd = ctypes.c_int(5)  # SW_SHOW\n",
    "        ret = ctypes.windll.shell32.ShellExecuteW(None, 'runas', cmd_line, None, None, show_cmd)\n",
    "        if ret <= 32:\n",
    "            raise RuntimeError('Could not run %r as administrator (error code %d)' % (cmd_line, ret))\n",
    "\n",
    "run_as_admin('setx /M PATH \"%PATH%;C:\\Program Files\\7-Zip\"')\n"
   ]
  },
  {
   "cell_type": "code",
   "execution_count": 23,
   "metadata": {},
   "outputs": [
    {
     "ename": "OSError",
     "evalue": "[WinError 740] La operación solicitada requiere elevación",
     "output_type": "error",
     "traceback": [
      "\u001b[1;31m---------------------------------------------------------------------------\u001b[0m",
      "\u001b[1;31mOSError\u001b[0m                                   Traceback (most recent call last)",
      "Cell \u001b[1;32mIn[23], line 4\u001b[0m\n\u001b[0;32m      1\u001b[0m \u001b[39mimport\u001b[39;00m \u001b[39msubprocess\u001b[39;00m \u001b[39mas\u001b[39;00m \u001b[39msp\u001b[39;00m\n\u001b[0;32m      3\u001b[0m \u001b[39m# run a program that does not require admin privileges\u001b[39;00m\n\u001b[1;32m----> 4\u001b[0m sp\u001b[39m.\u001b[39;49mcheck_call([\u001b[39m'\u001b[39;49m\u001b[39m7zip.exe\u001b[39;49m\u001b[39m'\u001b[39;49m])\n\u001b[0;32m      6\u001b[0m \u001b[39m# run a program that requires admin privileges\u001b[39;00m\n\u001b[0;32m      7\u001b[0m prog \u001b[39m=\u001b[39m sp\u001b[39m.\u001b[39mPopen([\u001b[39m'\u001b[39m\u001b[39mrunas\u001b[39m\u001b[39m'\u001b[39m, \u001b[39m'\u001b[39m\u001b[39m/noprofile\u001b[39m\u001b[39m'\u001b[39m, \u001b[39m'\u001b[39m\u001b[39m/user:Administrator\u001b[39m\u001b[39m'\u001b[39m, \u001b[39m'\u001b[39m\u001b[39m7zip.exe\u001b[39m\u001b[39m'\u001b[39m], stdin\u001b[39m=\u001b[39msp\u001b[39m.\u001b[39mPIPE)\n",
      "File \u001b[1;32mc:\\Users\\usuario\\AppData\\Local\\Programs\\Python\\Python310\\lib\\subprocess.py:364\u001b[0m, in \u001b[0;36mcheck_call\u001b[1;34m(*popenargs, **kwargs)\u001b[0m\n\u001b[0;32m    354\u001b[0m \u001b[39mdef\u001b[39;00m \u001b[39mcheck_call\u001b[39m(\u001b[39m*\u001b[39mpopenargs, \u001b[39m*\u001b[39m\u001b[39m*\u001b[39mkwargs):\n\u001b[0;32m    355\u001b[0m \u001b[39m    \u001b[39m\u001b[39m\"\"\"Run command with arguments.  Wait for command to complete.  If\u001b[39;00m\n\u001b[0;32m    356\u001b[0m \u001b[39m    the exit code was zero then return, otherwise raise\u001b[39;00m\n\u001b[0;32m    357\u001b[0m \u001b[39m    CalledProcessError.  The CalledProcessError object will have the\u001b[39;00m\n\u001b[1;32m   (...)\u001b[0m\n\u001b[0;32m    362\u001b[0m \u001b[39m    check_call([\"ls\", \"-l\"])\u001b[39;00m\n\u001b[0;32m    363\u001b[0m \u001b[39m    \"\"\"\u001b[39;00m\n\u001b[1;32m--> 364\u001b[0m     retcode \u001b[39m=\u001b[39m call(\u001b[39m*\u001b[39mpopenargs, \u001b[39m*\u001b[39m\u001b[39m*\u001b[39mkwargs)\n\u001b[0;32m    365\u001b[0m     \u001b[39mif\u001b[39;00m retcode:\n\u001b[0;32m    366\u001b[0m         cmd \u001b[39m=\u001b[39m kwargs\u001b[39m.\u001b[39mget(\u001b[39m\"\u001b[39m\u001b[39margs\u001b[39m\u001b[39m\"\u001b[39m)\n",
      "File \u001b[1;32mc:\\Users\\usuario\\AppData\\Local\\Programs\\Python\\Python310\\lib\\subprocess.py:345\u001b[0m, in \u001b[0;36mcall\u001b[1;34m(timeout, *popenargs, **kwargs)\u001b[0m\n\u001b[0;32m    337\u001b[0m \u001b[39mdef\u001b[39;00m \u001b[39mcall\u001b[39m(\u001b[39m*\u001b[39mpopenargs, timeout\u001b[39m=\u001b[39m\u001b[39mNone\u001b[39;00m, \u001b[39m*\u001b[39m\u001b[39m*\u001b[39mkwargs):\n\u001b[0;32m    338\u001b[0m \u001b[39m    \u001b[39m\u001b[39m\"\"\"Run command with arguments.  Wait for command to complete or\u001b[39;00m\n\u001b[0;32m    339\u001b[0m \u001b[39m    timeout, then return the returncode attribute.\u001b[39;00m\n\u001b[0;32m    340\u001b[0m \n\u001b[1;32m   (...)\u001b[0m\n\u001b[0;32m    343\u001b[0m \u001b[39m    retcode = call([\"ls\", \"-l\"])\u001b[39;00m\n\u001b[0;32m    344\u001b[0m \u001b[39m    \"\"\"\u001b[39;00m\n\u001b[1;32m--> 345\u001b[0m     \u001b[39mwith\u001b[39;00m Popen(\u001b[39m*\u001b[39mpopenargs, \u001b[39m*\u001b[39m\u001b[39m*\u001b[39mkwargs) \u001b[39mas\u001b[39;00m p:\n\u001b[0;32m    346\u001b[0m         \u001b[39mtry\u001b[39;00m:\n\u001b[0;32m    347\u001b[0m             \u001b[39mreturn\u001b[39;00m p\u001b[39m.\u001b[39mwait(timeout\u001b[39m=\u001b[39mtimeout)\n",
      "File \u001b[1;32mc:\\Users\\usuario\\AppData\\Local\\Programs\\Python\\Python310\\lib\\subprocess.py:966\u001b[0m, in \u001b[0;36mPopen.__init__\u001b[1;34m(self, args, bufsize, executable, stdin, stdout, stderr, preexec_fn, close_fds, shell, cwd, env, universal_newlines, startupinfo, creationflags, restore_signals, start_new_session, pass_fds, user, group, extra_groups, encoding, errors, text, umask, pipesize)\u001b[0m\n\u001b[0;32m    962\u001b[0m         \u001b[39mif\u001b[39;00m \u001b[39mself\u001b[39m\u001b[39m.\u001b[39mtext_mode:\n\u001b[0;32m    963\u001b[0m             \u001b[39mself\u001b[39m\u001b[39m.\u001b[39mstderr \u001b[39m=\u001b[39m io\u001b[39m.\u001b[39mTextIOWrapper(\u001b[39mself\u001b[39m\u001b[39m.\u001b[39mstderr,\n\u001b[0;32m    964\u001b[0m                     encoding\u001b[39m=\u001b[39mencoding, errors\u001b[39m=\u001b[39merrors)\n\u001b[1;32m--> 966\u001b[0m     \u001b[39mself\u001b[39;49m\u001b[39m.\u001b[39;49m_execute_child(args, executable, preexec_fn, close_fds,\n\u001b[0;32m    967\u001b[0m                         pass_fds, cwd, env,\n\u001b[0;32m    968\u001b[0m                         startupinfo, creationflags, shell,\n\u001b[0;32m    969\u001b[0m                         p2cread, p2cwrite,\n\u001b[0;32m    970\u001b[0m                         c2pread, c2pwrite,\n\u001b[0;32m    971\u001b[0m                         errread, errwrite,\n\u001b[0;32m    972\u001b[0m                         restore_signals,\n\u001b[0;32m    973\u001b[0m                         gid, gids, uid, umask,\n\u001b[0;32m    974\u001b[0m                         start_new_session)\n\u001b[0;32m    975\u001b[0m \u001b[39mexcept\u001b[39;00m:\n\u001b[0;32m    976\u001b[0m     \u001b[39m# Cleanup if the child failed starting.\u001b[39;00m\n\u001b[0;32m    977\u001b[0m     \u001b[39mfor\u001b[39;00m f \u001b[39min\u001b[39;00m \u001b[39mfilter\u001b[39m(\u001b[39mNone\u001b[39;00m, (\u001b[39mself\u001b[39m\u001b[39m.\u001b[39mstdin, \u001b[39mself\u001b[39m\u001b[39m.\u001b[39mstdout, \u001b[39mself\u001b[39m\u001b[39m.\u001b[39mstderr)):\n",
      "File \u001b[1;32mc:\\Users\\usuario\\AppData\\Local\\Programs\\Python\\Python310\\lib\\subprocess.py:1435\u001b[0m, in \u001b[0;36mPopen._execute_child\u001b[1;34m(self, args, executable, preexec_fn, close_fds, pass_fds, cwd, env, startupinfo, creationflags, shell, p2cread, p2cwrite, c2pread, c2pwrite, errread, errwrite, unused_restore_signals, unused_gid, unused_gids, unused_uid, unused_umask, unused_start_new_session)\u001b[0m\n\u001b[0;32m   1433\u001b[0m \u001b[39m# Start the process\u001b[39;00m\n\u001b[0;32m   1434\u001b[0m \u001b[39mtry\u001b[39;00m:\n\u001b[1;32m-> 1435\u001b[0m     hp, ht, pid, tid \u001b[39m=\u001b[39m _winapi\u001b[39m.\u001b[39;49mCreateProcess(executable, args,\n\u001b[0;32m   1436\u001b[0m                              \u001b[39m# no special security\u001b[39;49;00m\n\u001b[0;32m   1437\u001b[0m                              \u001b[39mNone\u001b[39;49;00m, \u001b[39mNone\u001b[39;49;00m,\n\u001b[0;32m   1438\u001b[0m                              \u001b[39mint\u001b[39;49m(\u001b[39mnot\u001b[39;49;00m close_fds),\n\u001b[0;32m   1439\u001b[0m                              creationflags,\n\u001b[0;32m   1440\u001b[0m                              env,\n\u001b[0;32m   1441\u001b[0m                              cwd,\n\u001b[0;32m   1442\u001b[0m                              startupinfo)\n\u001b[0;32m   1443\u001b[0m \u001b[39mfinally\u001b[39;00m:\n\u001b[0;32m   1444\u001b[0m     \u001b[39m# Child is launched. Close the parent's copy of those pipe\u001b[39;00m\n\u001b[0;32m   1445\u001b[0m     \u001b[39m# handles that only the child should have open.  You need\u001b[39;00m\n\u001b[1;32m   (...)\u001b[0m\n\u001b[0;32m   1448\u001b[0m     \u001b[39m# pipe will not close when the child process exits and the\u001b[39;00m\n\u001b[0;32m   1449\u001b[0m     \u001b[39m# ReadFile will hang.\u001b[39;00m\n\u001b[0;32m   1450\u001b[0m     \u001b[39mself\u001b[39m\u001b[39m.\u001b[39m_close_pipe_fds(p2cread, p2cwrite,\n\u001b[0;32m   1451\u001b[0m                          c2pread, c2pwrite,\n\u001b[0;32m   1452\u001b[0m                          errread, errwrite)\n",
      "\u001b[1;31mOSError\u001b[0m: [WinError 740] La operación solicitada requiere elevación"
     ]
    }
   ],
   "source": [
    "import subprocess as sp\n",
    "\n",
    "# run a program that does not require admin privileges\n",
    "sp.check_call(['7zip.exe'])\n",
    "\n",
    "# run a program that requires admin privileges\n",
    "prog = sp.Popen(['runas', '/noprofile', '/user:Administrator', '7zip.exe'], stdin=sp.PIPE)\n",
    "\n",
    "# enter the password for the admin user\n",
    "prog.stdin.write('111111')\n",
    "\n",
    "# communicate with the program\n",
    "prog.communicate()"
   ]
  }
 ],
 "metadata": {
  "kernelspec": {
   "display_name": "Python 3",
   "language": "python",
   "name": "python3"
  },
  "language_info": {
   "codemirror_mode": {
    "name": "ipython",
    "version": 3
   },
   "file_extension": ".py",
   "mimetype": "text/x-python",
   "name": "python",
   "nbconvert_exporter": "python",
   "pygments_lexer": "ipython3",
   "version": "3.10.0"
  },
  "orig_nbformat": 4,
  "vscode": {
   "interpreter": {
    "hash": "e6104bf604ca1a37923b4f279a3bc03307071c215727ed52dcf746e90ba65021"
   }
  }
 },
 "nbformat": 4,
 "nbformat_minor": 2
}
